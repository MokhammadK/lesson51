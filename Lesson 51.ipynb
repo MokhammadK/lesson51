{
 "cells": [
  {
   "cell_type": "code",
   "execution_count": 7,
   "id": "a3990daa",
   "metadata": {},
   "outputs": [],
   "source": [
    "import numpy as np\n",
    "from scipy.stats import norm"
   ]
  },
  {
   "cell_type": "code",
   "execution_count": 8,
   "id": "2fbb75cb",
   "metadata": {},
   "outputs": [],
   "source": [
    "total_products = 13000\n",
    "N1 = 8000\n",
    "mu1 = 13\n",
    "sigma1 = 0.5\n",
    "N2 = 5000\n",
    "mu2 = 12\n",
    "sigma2 = 0.7\n",
    "p1 = 0.85\n",
    "p2 = 0.8"
   ]
  },
  {
   "cell_type": "code",
   "execution_count": 9,
   "id": "ba85c08c",
   "metadata": {},
   "outputs": [],
   "source": [
    "mu1_hat = np.random.rand()\n",
    "mu2_hat = np.random.rand()\n",
    "sigma1_hat = np.random.rand()\n",
    "sigma2_hat = np.random.rand()"
   ]
  },
  {
   "cell_type": "code",
   "execution_count": 15,
   "id": "a3f9b0f7",
   "metadata": {},
   "outputs": [],
   "source": [
    "for _ in range(100): \n",
    "    w1 = (p1 * norm.pdf(mu1, mu1_hat, sigma1_hat)) / (\n",
    "        p1 * norm.pdf(mu1, mu1_hat, sigma1_hat) + p2 * norm.pdf(mu1, mu2_hat, sigma2_hat)\n",
    "    )\n",
    "    w2 = 1 - w1\n",
    "    \n",
    "    epsilon = 1e-10\n",
    "    if np.abs(np.sum(w1)) < epsilon:\n",
    "        w1 = epsilon\n",
    "    if np.abs(np.sum(w2)) < epsilon:\n",
    "        w2 = epsilon\n",
    "    \n",
    "    mu1_hat = np.sum(w1 * mu1) / np.sum(w1)\n",
    "    mu2_hat = np.sum(w2 * mu2) / np.sum(w2)\n",
    "    \n",
    "    min_sigma = 0.1\n",
    "    sigma1_hat = max(sigma1_hat, min_sigma)\n",
    "    sigma2_hat = max(sigma2_hat, min_sigma)\n",
    "    sigma1_hat = np.sqrt(np.sum(w1 * (mu1 - mu1_hat) ** 2) / np.sum(w1))\n",
    "    sigma2_hat = np.sqrt(np.sum(w2 * (mu2 - mu2_hat) ** 2) / np.sum(w2))\n",
    "\n"
   ]
  },
  {
   "cell_type": "code",
   "execution_count": 14,
   "id": "8579d889",
   "metadata": {},
   "outputs": [
    {
     "name": "stdout",
     "output_type": "stream",
     "text": [
      "Доля вірно визначених виробів: 0.6153846153846154\n"
     ]
    }
   ],
   "source": [
    "proba_X = []\n",
    "for i in range(total_products):\n",
    "    p_x1 = w1 * norm.pdf(mu1, mu1_hat, sigma1_hat)\n",
    "    p_x2 = w2 * norm.pdf(mu2, mu2_hat, sigma2_hat)\n",
    "    proba_temp = [p_x1 / (p_x1 + p_x2), p_x2 / (p_x1 + p_x2)]\n",
    "    proba_X.append(proba_temp)\n",
    "\n",
    "proba_X = np.array(proba_X)\n",
    "predicted_labels = np.argmax(proba_X, axis=1) + 1  \n",
    "\n",
    "y = np.concatenate((np.ones(N1), 2 * np.ones(N2)))\n",
    "\n",
    "print(\"Доля вірно визначених виробів:\", np.sum(predicted_labels == y) / total_products)"
   ]
  },
  {
   "cell_type": "code",
   "execution_count": 20,
   "id": "821f78ab",
   "metadata": {},
   "outputs": [
    {
     "name": "stdout",
     "output_type": "stream",
     "text": [
      "Estimated probabilities:\n",
      "Factory 1: 0.28243759184844963\n",
      "Factory 2: 0.7175624081515503\n",
      "The product was likely manufactured in Factory 2.\n"
     ]
    }
   ],
   "source": [
    "import numpy as np\n",
    "\n",
    "total_products = 13000\n",
    "factory1_products = 8000\n",
    "factory2_products = 5000\n",
    "\n",
    "factory1_mean_weight = 13\n",
    "factory1_weight_std = 0.5\n",
    "\n",
    "factory2_mean_weight = 12\n",
    "factory2_weight_std = 0.7\n",
    "\n",
    "factory1_quality_proportion = 0.85\n",
    "factory2_quality_proportion = 0.8\n",
    "\n",
    "estimated_factory1_proportion = 0.5\n",
    "estimated_factory2_proportion = 0.5\n",
    "\n",
    "num_iterations = 10\n",
    "\n",
    "for _ in range(num_iterations):\n",
    "    factory1_weights = (\n",
    "        factory1_quality_proportion\n",
    "        * np.random.normal(factory1_mean_weight, factory1_weight_std, total_products)\n",
    "    )\n",
    "    factory2_weights = (\n",
    "        factory2_quality_proportion\n",
    "        * np.random.normal(factory2_mean_weight, factory2_weight_std, total_products)\n",
    "    )\n",
    "\n",
    "    likelihood_factory1 = (\n",
    "        estimated_factory1_proportion\n",
    "        * np.exp(-0.5 * ((factory1_weights - factory1_mean_weight) / factory1_weight_std) ** 2)\n",
    "    )\n",
    "    likelihood_factory2 = (\n",
    "        estimated_factory2_proportion\n",
    "        * np.exp(-0.5 * ((factory2_weights - factory2_mean_weight) / factory2_weight_std) ** 2)\n",
    "    )\n",
    "\n",
    "    total_likelihood = likelihood_factory1 + likelihood_factory2\n",
    "\n",
    "    factory1_posterior = likelihood_factory1 / total_likelihood\n",
    "    factory2_posterior = likelihood_factory2 / total_likelihood\n",
    "\n",
    "    estimated_factory1_proportion = np.mean(factory1_posterior)\n",
    "    estimated_factory2_proportion = np.mean(factory2_posterior)\n",
    "\n",
    "print(\"Estimated probabilities:\")\n",
    "print(\"Factory 1:\", estimated_factory1_proportion)\n",
    "print(\"Factory 2:\", estimated_factory2_proportion)\n",
    "\n",
    "if estimated_factory1_proportion > estimated_factory2_proportion:\n",
    "    print(\"The product was likely manufactured in Factory 1.\")\n",
    "else:\n",
    "    print(\"The product was likely manufactured in Factory 2.\")"
   ]
  },
  {
   "cell_type": "code",
   "execution_count": null,
   "id": "fdba4d75",
   "metadata": {},
   "outputs": [],
   "source": []
  }
 ],
 "metadata": {
  "kernelspec": {
   "display_name": "Python 3 (ipykernel)",
   "language": "python",
   "name": "python3"
  },
  "language_info": {
   "codemirror_mode": {
    "name": "ipython",
    "version": 3
   },
   "file_extension": ".py",
   "mimetype": "text/x-python",
   "name": "python",
   "nbconvert_exporter": "python",
   "pygments_lexer": "ipython3",
   "version": "3.11.3"
  }
 },
 "nbformat": 4,
 "nbformat_minor": 5
}
